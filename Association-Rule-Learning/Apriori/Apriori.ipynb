{
 "metadata": {
  "language_info": {
   "codemirror_mode": {
    "name": "ipython",
    "version": 3
   },
   "file_extension": ".py",
   "mimetype": "text/x-python",
   "name": "python",
   "nbconvert_exporter": "python",
   "pygments_lexer": "ipython3",
   "version": "3.7.4-final"
  },
  "orig_nbformat": 2,
  "kernelspec": {
   "name": "python_defaultSpec_1597579216154",
   "display_name": "Python 3.7.4 64-bit ('base': conda)"
  }
 },
 "nbformat": 4,
 "nbformat_minor": 2,
 "cells": [
  {
   "cell_type": "markdown",
   "metadata": {},
   "source": [
    "## Import Libraries and dataset"
   ]
  },
  {
   "cell_type": "code",
   "execution_count": 32,
   "metadata": {
    "tags": []
   },
   "outputs": [
    {
     "output_type": "stream",
     "name": "stdout",
     "text": "Requirement already satisfied: apyori in c:\\users\\lenovo\\anaconda3\\lib\\site-packages (1.1.2)\n"
    }
   ],
   "source": [
    "!pip install apyori"
   ]
  },
  {
   "cell_type": "code",
   "execution_count": 33,
   "metadata": {
    "tags": []
   },
   "outputs": [],
   "source": [
    "import numpy as np\n",
    "import pandas as pd \n",
    "import matplotlib.pyplot as plt\n",
    "\n",
    "dataset = pd.read_csv('Market_Basket_Optimisation.csv', header = None)\n",
    "transactions = []\n",
    "for i in range(0, 7501):\n",
    "    transactions.append([str(dataset.values[i, j]) for j in range(0, 20)])"
   ]
  },
  {
   "cell_type": "markdown",
   "metadata": {},
   "source": [
    "## Training the Apriori Model on the dataset"
   ]
  },
  {
   "cell_type": "code",
   "execution_count": 34,
   "metadata": {},
   "outputs": [],
   "source": [
    "from apyori import apriori\n",
    "rules = apriori(transactions = transactions, min_support = 0.003, min_confidence = 0.2, min_lift = 3, min_length = 2, max_length = 2)"
   ]
  },
  {
   "cell_type": "markdown",
   "metadata": {},
   "source": [
    "## Visualising the results "
   ]
  },
  {
   "cell_type": "markdown",
   "metadata": {},
   "source": [
    "###     Displaying raw results"
   ]
  },
  {
   "cell_type": "code",
   "execution_count": 35,
   "metadata": {
    "tags": []
   },
   "outputs": [],
   "source": [
    "results = list(rules)"
   ]
  },
  {
   "cell_type": "markdown",
   "metadata": {},
   "source": [
    "### Organising and putting results into a PD DataFrame"
   ]
  },
  {
   "cell_type": "code",
   "execution_count": 36,
   "metadata": {},
   "outputs": [],
   "source": [
    "def inspect(results):\n",
    "    lhs = [tuple(result[2][0][0])[0] for result in results]\n",
    "    rhs = [tuple(result[2][0][1])[0] for result in results]\n",
    "    supports = [result[1] for result in results]\n",
    "    confidences = [result[2][0][3] for result in results]\n",
    "    lifts = [result[2][0][3] for result in results]\n",
    "    return list(zip(lhs, rhs, supports, confidences, lifts))\n",
    "resultsDataFrame = pd.DataFrame(inspect(results), columns = ['Left Hand Side', 'Right Hand Side', 'Support', 'Confidence', 'Lift'])\n"
   ]
  },
  {
   "cell_type": "markdown",
   "metadata": {},
   "source": [
    "### Displaying non-sorted results"
   ]
  },
  {
   "cell_type": "code",
   "execution_count": 37,
   "metadata": {},
   "outputs": [
    {
     "output_type": "execute_result",
     "data": {
      "text/plain": "         Left Hand Side Right Hand Side   Support  Confidence      Lift\n0           light cream         chicken  0.004533    4.843951  4.843951\n1  mushroom cream sauce        escalope  0.005733    3.790833  3.790833\n2                 pasta        escalope  0.005866    4.700812  4.700812\n3         fromage blanc           honey  0.003333    5.164271  5.164271\n4         herb & pepper     ground beef  0.015998    3.291994  3.291994\n5          tomato sauce     ground beef  0.005333    3.840659  3.840659\n6           light cream       olive oil  0.003200    3.114710  3.114710\n7     whole wheat pasta       olive oil  0.007999    4.122410  4.122410\n8                 pasta          shrimp  0.005066    4.506672  4.506672",
      "text/html": "<div>\n<style scoped>\n    .dataframe tbody tr th:only-of-type {\n        vertical-align: middle;\n    }\n\n    .dataframe tbody tr th {\n        vertical-align: top;\n    }\n\n    .dataframe thead th {\n        text-align: right;\n    }\n</style>\n<table border=\"1\" class=\"dataframe\">\n  <thead>\n    <tr style=\"text-align: right;\">\n      <th></th>\n      <th>Left Hand Side</th>\n      <th>Right Hand Side</th>\n      <th>Support</th>\n      <th>Confidence</th>\n      <th>Lift</th>\n    </tr>\n  </thead>\n  <tbody>\n    <tr>\n      <td>0</td>\n      <td>light cream</td>\n      <td>chicken</td>\n      <td>0.004533</td>\n      <td>4.843951</td>\n      <td>4.843951</td>\n    </tr>\n    <tr>\n      <td>1</td>\n      <td>mushroom cream sauce</td>\n      <td>escalope</td>\n      <td>0.005733</td>\n      <td>3.790833</td>\n      <td>3.790833</td>\n    </tr>\n    <tr>\n      <td>2</td>\n      <td>pasta</td>\n      <td>escalope</td>\n      <td>0.005866</td>\n      <td>4.700812</td>\n      <td>4.700812</td>\n    </tr>\n    <tr>\n      <td>3</td>\n      <td>fromage blanc</td>\n      <td>honey</td>\n      <td>0.003333</td>\n      <td>5.164271</td>\n      <td>5.164271</td>\n    </tr>\n    <tr>\n      <td>4</td>\n      <td>herb &amp; pepper</td>\n      <td>ground beef</td>\n      <td>0.015998</td>\n      <td>3.291994</td>\n      <td>3.291994</td>\n    </tr>\n    <tr>\n      <td>5</td>\n      <td>tomato sauce</td>\n      <td>ground beef</td>\n      <td>0.005333</td>\n      <td>3.840659</td>\n      <td>3.840659</td>\n    </tr>\n    <tr>\n      <td>6</td>\n      <td>light cream</td>\n      <td>olive oil</td>\n      <td>0.003200</td>\n      <td>3.114710</td>\n      <td>3.114710</td>\n    </tr>\n    <tr>\n      <td>7</td>\n      <td>whole wheat pasta</td>\n      <td>olive oil</td>\n      <td>0.007999</td>\n      <td>4.122410</td>\n      <td>4.122410</td>\n    </tr>\n    <tr>\n      <td>8</td>\n      <td>pasta</td>\n      <td>shrimp</td>\n      <td>0.005066</td>\n      <td>4.506672</td>\n      <td>4.506672</td>\n    </tr>\n  </tbody>\n</table>\n</div>"
     },
     "metadata": {},
     "execution_count": 37
    }
   ],
   "source": [
    "resultsDataFrame"
   ]
  },
  {
   "cell_type": "markdown",
   "metadata": {},
   "source": [
    "### Results in Decreasing Order by Lifts"
   ]
  },
  {
   "cell_type": "code",
   "execution_count": 38,
   "metadata": {},
   "outputs": [
    {
     "output_type": "execute_result",
     "data": {
      "text/plain": "         Left Hand Side Right Hand Side   Support  Confidence      Lift\n3         fromage blanc           honey  0.003333    5.164271  5.164271\n0           light cream         chicken  0.004533    4.843951  4.843951\n2                 pasta        escalope  0.005866    4.700812  4.700812\n8                 pasta          shrimp  0.005066    4.506672  4.506672\n7     whole wheat pasta       olive oil  0.007999    4.122410  4.122410\n5          tomato sauce     ground beef  0.005333    3.840659  3.840659\n1  mushroom cream sauce        escalope  0.005733    3.790833  3.790833\n4         herb & pepper     ground beef  0.015998    3.291994  3.291994\n6           light cream       olive oil  0.003200    3.114710  3.114710",
      "text/html": "<div>\n<style scoped>\n    .dataframe tbody tr th:only-of-type {\n        vertical-align: middle;\n    }\n\n    .dataframe tbody tr th {\n        vertical-align: top;\n    }\n\n    .dataframe thead th {\n        text-align: right;\n    }\n</style>\n<table border=\"1\" class=\"dataframe\">\n  <thead>\n    <tr style=\"text-align: right;\">\n      <th></th>\n      <th>Left Hand Side</th>\n      <th>Right Hand Side</th>\n      <th>Support</th>\n      <th>Confidence</th>\n      <th>Lift</th>\n    </tr>\n  </thead>\n  <tbody>\n    <tr>\n      <td>3</td>\n      <td>fromage blanc</td>\n      <td>honey</td>\n      <td>0.003333</td>\n      <td>5.164271</td>\n      <td>5.164271</td>\n    </tr>\n    <tr>\n      <td>0</td>\n      <td>light cream</td>\n      <td>chicken</td>\n      <td>0.004533</td>\n      <td>4.843951</td>\n      <td>4.843951</td>\n    </tr>\n    <tr>\n      <td>2</td>\n      <td>pasta</td>\n      <td>escalope</td>\n      <td>0.005866</td>\n      <td>4.700812</td>\n      <td>4.700812</td>\n    </tr>\n    <tr>\n      <td>8</td>\n      <td>pasta</td>\n      <td>shrimp</td>\n      <td>0.005066</td>\n      <td>4.506672</td>\n      <td>4.506672</td>\n    </tr>\n    <tr>\n      <td>7</td>\n      <td>whole wheat pasta</td>\n      <td>olive oil</td>\n      <td>0.007999</td>\n      <td>4.122410</td>\n      <td>4.122410</td>\n    </tr>\n    <tr>\n      <td>5</td>\n      <td>tomato sauce</td>\n      <td>ground beef</td>\n      <td>0.005333</td>\n      <td>3.840659</td>\n      <td>3.840659</td>\n    </tr>\n    <tr>\n      <td>1</td>\n      <td>mushroom cream sauce</td>\n      <td>escalope</td>\n      <td>0.005733</td>\n      <td>3.790833</td>\n      <td>3.790833</td>\n    </tr>\n    <tr>\n      <td>4</td>\n      <td>herb &amp; pepper</td>\n      <td>ground beef</td>\n      <td>0.015998</td>\n      <td>3.291994</td>\n      <td>3.291994</td>\n    </tr>\n    <tr>\n      <td>6</td>\n      <td>light cream</td>\n      <td>olive oil</td>\n      <td>0.003200</td>\n      <td>3.114710</td>\n      <td>3.114710</td>\n    </tr>\n  </tbody>\n</table>\n</div>"
     },
     "metadata": {},
     "execution_count": 38
    }
   ],
   "source": [
    "resultsDataFrame.nlargest(n = 10, columns = 'Lift')"
   ]
  },
  {
   "cell_type": "code",
   "execution_count": null,
   "metadata": {},
   "outputs": [],
   "source": []
  }
 ]
}